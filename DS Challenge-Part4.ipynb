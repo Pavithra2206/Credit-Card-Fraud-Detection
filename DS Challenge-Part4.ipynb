{
 "cells": [
  {
   "cell_type": "code",
   "execution_count": 1,
   "id": "2eea57a4",
   "metadata": {},
   "outputs": [],
   "source": [
    "import pandas as pd\n",
    "import numpy as np\n",
    "import matplotlib.pyplot as plt\n",
    "import seaborn as sns\n",
    "\n",
    "import xgboost as xgb\n",
    "from sklearn.model_selection import train_test_split\n",
    "from sklearn.metrics import accuracy_score, precision_score, recall_score, f1_score, roc_auc_score, confusion_matrix"
   ]
  },
  {
   "cell_type": "markdown",
   "id": "cb7ede96",
   "metadata": {},
   "source": [
    "### Load data"
   ]
  },
  {
   "cell_type": "code",
   "execution_count": 2,
   "id": "d38c828c",
   "metadata": {
    "scrolled": true
   },
   "outputs": [
    {
     "data": {
      "text/html": [
       "<div>\n",
       "<style scoped>\n",
       "    .dataframe tbody tr th:only-of-type {\n",
       "        vertical-align: middle;\n",
       "    }\n",
       "\n",
       "    .dataframe tbody tr th {\n",
       "        vertical-align: top;\n",
       "    }\n",
       "\n",
       "    .dataframe thead th {\n",
       "        text-align: right;\n",
       "    }\n",
       "</style>\n",
       "<table border=\"1\" class=\"dataframe\">\n",
       "  <thead>\n",
       "    <tr style=\"text-align: right;\">\n",
       "      <th></th>\n",
       "      <th>accountNumber</th>\n",
       "      <th>customerId</th>\n",
       "      <th>creditLimit</th>\n",
       "      <th>availableMoney</th>\n",
       "      <th>transactionDateTime</th>\n",
       "      <th>transactionAmount</th>\n",
       "      <th>merchantName</th>\n",
       "      <th>acqCountry</th>\n",
       "      <th>merchantCountryCode</th>\n",
       "      <th>posEntryMode</th>\n",
       "      <th>...</th>\n",
       "      <th>accountOpenDate</th>\n",
       "      <th>dateOfLastAddressChange</th>\n",
       "      <th>cardCVV</th>\n",
       "      <th>enteredCVV</th>\n",
       "      <th>cardLast4Digits</th>\n",
       "      <th>transactionType</th>\n",
       "      <th>currentBalance</th>\n",
       "      <th>cardPresent</th>\n",
       "      <th>expirationDateKeyInMatch</th>\n",
       "      <th>isFraud</th>\n",
       "    </tr>\n",
       "  </thead>\n",
       "  <tbody>\n",
       "    <tr>\n",
       "      <th>0</th>\n",
       "      <td>737265056</td>\n",
       "      <td>737265056</td>\n",
       "      <td>5000.0</td>\n",
       "      <td>5000.0</td>\n",
       "      <td>2016-08-13T14:27:32</td>\n",
       "      <td>98.55</td>\n",
       "      <td>Uber</td>\n",
       "      <td>US</td>\n",
       "      <td>US</td>\n",
       "      <td>2.0</td>\n",
       "      <td>...</td>\n",
       "      <td>2015-03-14</td>\n",
       "      <td>2015-03-14</td>\n",
       "      <td>414</td>\n",
       "      <td>414</td>\n",
       "      <td>1803</td>\n",
       "      <td>PURCHASE</td>\n",
       "      <td>0.0</td>\n",
       "      <td>False</td>\n",
       "      <td>False</td>\n",
       "      <td>False</td>\n",
       "    </tr>\n",
       "    <tr>\n",
       "      <th>1</th>\n",
       "      <td>737265056</td>\n",
       "      <td>737265056</td>\n",
       "      <td>5000.0</td>\n",
       "      <td>5000.0</td>\n",
       "      <td>2016-10-11T05:05:54</td>\n",
       "      <td>74.51</td>\n",
       "      <td>AMC #191138</td>\n",
       "      <td>US</td>\n",
       "      <td>US</td>\n",
       "      <td>9.0</td>\n",
       "      <td>...</td>\n",
       "      <td>2015-03-14</td>\n",
       "      <td>2015-03-14</td>\n",
       "      <td>486</td>\n",
       "      <td>486</td>\n",
       "      <td>767</td>\n",
       "      <td>PURCHASE</td>\n",
       "      <td>0.0</td>\n",
       "      <td>True</td>\n",
       "      <td>False</td>\n",
       "      <td>False</td>\n",
       "    </tr>\n",
       "    <tr>\n",
       "      <th>2</th>\n",
       "      <td>737265056</td>\n",
       "      <td>737265056</td>\n",
       "      <td>5000.0</td>\n",
       "      <td>5000.0</td>\n",
       "      <td>2016-11-08T09:18:39</td>\n",
       "      <td>7.47</td>\n",
       "      <td>Play Store</td>\n",
       "      <td>US</td>\n",
       "      <td>US</td>\n",
       "      <td>9.0</td>\n",
       "      <td>...</td>\n",
       "      <td>2015-03-14</td>\n",
       "      <td>2015-03-14</td>\n",
       "      <td>486</td>\n",
       "      <td>486</td>\n",
       "      <td>767</td>\n",
       "      <td>PURCHASE</td>\n",
       "      <td>0.0</td>\n",
       "      <td>False</td>\n",
       "      <td>False</td>\n",
       "      <td>False</td>\n",
       "    </tr>\n",
       "    <tr>\n",
       "      <th>3</th>\n",
       "      <td>737265056</td>\n",
       "      <td>737265056</td>\n",
       "      <td>5000.0</td>\n",
       "      <td>5000.0</td>\n",
       "      <td>2016-12-10T02:14:50</td>\n",
       "      <td>7.47</td>\n",
       "      <td>Play Store</td>\n",
       "      <td>US</td>\n",
       "      <td>US</td>\n",
       "      <td>9.0</td>\n",
       "      <td>...</td>\n",
       "      <td>2015-03-14</td>\n",
       "      <td>2015-03-14</td>\n",
       "      <td>486</td>\n",
       "      <td>486</td>\n",
       "      <td>767</td>\n",
       "      <td>PURCHASE</td>\n",
       "      <td>0.0</td>\n",
       "      <td>False</td>\n",
       "      <td>False</td>\n",
       "      <td>False</td>\n",
       "    </tr>\n",
       "    <tr>\n",
       "      <th>4</th>\n",
       "      <td>830329091</td>\n",
       "      <td>830329091</td>\n",
       "      <td>5000.0</td>\n",
       "      <td>5000.0</td>\n",
       "      <td>2016-03-24T21:04:46</td>\n",
       "      <td>71.18</td>\n",
       "      <td>Tim Hortons #947751</td>\n",
       "      <td>US</td>\n",
       "      <td>US</td>\n",
       "      <td>2.0</td>\n",
       "      <td>...</td>\n",
       "      <td>2015-08-06</td>\n",
       "      <td>2015-08-06</td>\n",
       "      <td>885</td>\n",
       "      <td>885</td>\n",
       "      <td>3143</td>\n",
       "      <td>PURCHASE</td>\n",
       "      <td>0.0</td>\n",
       "      <td>True</td>\n",
       "      <td>False</td>\n",
       "      <td>False</td>\n",
       "    </tr>\n",
       "  </tbody>\n",
       "</table>\n",
       "<p>5 rows × 23 columns</p>\n",
       "</div>"
      ],
      "text/plain": [
       "   accountNumber  customerId  creditLimit  availableMoney  \\\n",
       "0      737265056   737265056       5000.0          5000.0   \n",
       "1      737265056   737265056       5000.0          5000.0   \n",
       "2      737265056   737265056       5000.0          5000.0   \n",
       "3      737265056   737265056       5000.0          5000.0   \n",
       "4      830329091   830329091       5000.0          5000.0   \n",
       "\n",
       "   transactionDateTime  transactionAmount         merchantName acqCountry  \\\n",
       "0  2016-08-13T14:27:32              98.55                 Uber         US   \n",
       "1  2016-10-11T05:05:54              74.51          AMC #191138         US   \n",
       "2  2016-11-08T09:18:39               7.47           Play Store         US   \n",
       "3  2016-12-10T02:14:50               7.47           Play Store         US   \n",
       "4  2016-03-24T21:04:46              71.18  Tim Hortons #947751         US   \n",
       "\n",
       "  merchantCountryCode  posEntryMode  ...  accountOpenDate  \\\n",
       "0                  US           2.0  ...       2015-03-14   \n",
       "1                  US           9.0  ...       2015-03-14   \n",
       "2                  US           9.0  ...       2015-03-14   \n",
       "3                  US           9.0  ...       2015-03-14   \n",
       "4                  US           2.0  ...       2015-08-06   \n",
       "\n",
       "  dateOfLastAddressChange cardCVV enteredCVV cardLast4Digits  transactionType  \\\n",
       "0              2015-03-14     414        414            1803         PURCHASE   \n",
       "1              2015-03-14     486        486             767         PURCHASE   \n",
       "2              2015-03-14     486        486             767         PURCHASE   \n",
       "3              2015-03-14     486        486             767         PURCHASE   \n",
       "4              2015-08-06     885        885            3143         PURCHASE   \n",
       "\n",
       "   currentBalance  cardPresent expirationDateKeyInMatch  isFraud  \n",
       "0             0.0        False                    False    False  \n",
       "1             0.0         True                    False    False  \n",
       "2             0.0        False                    False    False  \n",
       "3             0.0        False                    False    False  \n",
       "4             0.0         True                    False    False  \n",
       "\n",
       "[5 rows x 23 columns]"
      ]
     },
     "execution_count": 2,
     "metadata": {},
     "output_type": "execute_result"
    }
   ],
   "source": [
    "df = pd.read_csv('transaction.csv')\n",
    "\n",
    "# Drop the specified columns with 0 non-null values in place\n",
    "columns_to_drop = ['echoBuffer', 'merchantCity', 'merchantState', 'merchantZip', 'posOnPremises', 'recurringAuthInd']\n",
    "\n",
    "df.drop(columns=columns_to_drop, inplace=True)\n",
    "\n",
    "df.head()"
   ]
  },
  {
   "cell_type": "markdown",
   "id": "2085216b",
   "metadata": {},
   "source": [
    "### Convert to Date Time object"
   ]
  },
  {
   "cell_type": "code",
   "execution_count": 3,
   "id": "86b39770",
   "metadata": {},
   "outputs": [],
   "source": [
    "df['transactionDateTime'] = pd.to_datetime(df['transactionDateTime'])\n",
    "df['accountOpenDate'] = pd.to_datetime(df['accountOpenDate'])\n",
    "df['dateOfLastAddressChange'] = pd.to_datetime(df['dateOfLastAddressChange'])\n",
    "df['currentExpDate'] = pd.to_datetime(df['currentExpDate'])\n",
    "df['accountOpenDate'] = pd.to_datetime(df['accountOpenDate'])"
   ]
  },
  {
   "cell_type": "code",
   "execution_count": 4,
   "id": "4d439e12",
   "metadata": {},
   "outputs": [],
   "source": [
    "columns_to_drop = ['accountNumber', 'customerId','merchantName','cardCVV', 'enteredCVV', 'cardLast4Digits']\n",
    "# Drop the specified columns with 0 non-null values in place\n",
    "df.drop(columns=columns_to_drop, inplace=True)"
   ]
  },
  {
   "cell_type": "markdown",
   "id": "58078cc2",
   "metadata": {},
   "source": [
    "### One hot encoding to convert categorical features"
   ]
  },
  {
   "cell_type": "code",
   "execution_count": 5,
   "id": "ef80d73d",
   "metadata": {},
   "outputs": [],
   "source": [
    "# Use pd.get_dummies() to create one-hot encoding for 'transactionType'\n",
    "transaction_type_encoded = pd.get_dummies(df['transactionType'], prefix='transactionType_')\n",
    "\n",
    "# Use pd.get_dummies() to create one-hot encoding for 'merchantCountryCode'\n",
    "merchant_country_encoded = pd.get_dummies(df['merchantCountryCode'], prefix='merchantCountryCode_')\n",
    "\n",
    "aqc_country_encoded = pd.get_dummies(df['acqCountry'], prefix='acqCountryCode_')\n",
    "\n",
    "posEntryMode_encoded = pd.get_dummies(df['posEntryMode'], prefix='posEntryMode_')\n",
    "\n",
    "posConditionCode_encoded = pd.get_dummies(df['posConditionCode'], prefix='posConditionCode_')\n",
    "\n",
    "merchantCategoryCode_encoded = pd.get_dummies(df['merchantCategoryCode'], prefix='merchantCategoryCode_')\n",
    "\n",
    "cardPresent_encoded = pd.get_dummies(df['cardPresent'], prefix='cardPresent_')\n",
    "\n",
    "expirationDateKeyInMatch_encoded = pd.get_dummies(df['expirationDateKeyInMatch'], prefix='expirationDateKeyInMatch_')\n",
    "\n",
    "# Concatenate the one-hot encoded DataFrames with the original DataFrame\n",
    "df_clean = df\n",
    "df_clean = pd.concat([df, transaction_type_encoded, merchant_country_encoded, aqc_country_encoded, posEntryMode_encoded, \n",
    "                posConditionCode_encoded, merchantCategoryCode_encoded, cardPresent_encoded, \n",
    "                expirationDateKeyInMatch_encoded], axis=1)"
   ]
  },
  {
   "cell_type": "code",
   "execution_count": 6,
   "id": "580fdc9b",
   "metadata": {},
   "outputs": [],
   "source": [
    "df_clean.drop(['transactionType', 'merchantCountryCode'], axis=1, inplace=True)\n",
    "df_clean.drop(['acqCountry'], axis=1, inplace=True)\n",
    "df_clean.drop(['posEntryMode'], axis=1, inplace=True)\n",
    "df_clean.drop(['posConditionCode'], axis=1, inplace=True)\n",
    "df_clean.drop(['merchantCategoryCode'], axis=1, inplace=True)\n",
    "df_clean.drop(['cardPresent'], axis=1, inplace=True)\n",
    "df_clean.drop(['expirationDateKeyInMatch'], axis=1, inplace=True)"
   ]
  },
  {
   "cell_type": "code",
   "execution_count": 7,
   "id": "5302ca68",
   "metadata": {},
   "outputs": [],
   "source": [
    "df_clean['daysSinceLastAddressChange'] = (df_clean['transactionDateTime'] - df_clean['dateOfLastAddressChange']).dt.days"
   ]
  },
  {
   "cell_type": "code",
   "execution_count": 8,
   "id": "dfeafb64",
   "metadata": {},
   "outputs": [],
   "source": [
    "df_clean.to_csv('transaction_clean.csv',index=False)"
   ]
  },
  {
   "cell_type": "code",
   "execution_count": 9,
   "id": "8016d1bb",
   "metadata": {
    "scrolled": true
   },
   "outputs": [
    {
     "data": {
      "text/html": [
       "<div>\n",
       "<style scoped>\n",
       "    .dataframe tbody tr th:only-of-type {\n",
       "        vertical-align: middle;\n",
       "    }\n",
       "\n",
       "    .dataframe tbody tr th {\n",
       "        vertical-align: top;\n",
       "    }\n",
       "\n",
       "    .dataframe thead th {\n",
       "        text-align: right;\n",
       "    }\n",
       "</style>\n",
       "<table border=\"1\" class=\"dataframe\">\n",
       "  <thead>\n",
       "    <tr style=\"text-align: right;\">\n",
       "      <th></th>\n",
       "      <th>creditLimit</th>\n",
       "      <th>availableMoney</th>\n",
       "      <th>transactionAmount</th>\n",
       "      <th>currentBalance</th>\n",
       "      <th>isFraud</th>\n",
       "      <th>transactionType__ADDRESS_VERIFICATION</th>\n",
       "      <th>transactionType__PURCHASE</th>\n",
       "      <th>transactionType__REVERSAL</th>\n",
       "      <th>merchantCountryCode__CAN</th>\n",
       "      <th>merchantCountryCode__MEX</th>\n",
       "      <th>...</th>\n",
       "      <th>merchantCategoryCode__online_retail</th>\n",
       "      <th>merchantCategoryCode__online_subscriptions</th>\n",
       "      <th>merchantCategoryCode__personal care</th>\n",
       "      <th>merchantCategoryCode__rideshare</th>\n",
       "      <th>merchantCategoryCode__subscriptions</th>\n",
       "      <th>cardPresent__False</th>\n",
       "      <th>cardPresent__True</th>\n",
       "      <th>expirationDateKeyInMatch__False</th>\n",
       "      <th>expirationDateKeyInMatch__True</th>\n",
       "      <th>daysSinceLastAddressChange</th>\n",
       "    </tr>\n",
       "  </thead>\n",
       "  <tbody>\n",
       "    <tr>\n",
       "      <th>0</th>\n",
       "      <td>5000.0</td>\n",
       "      <td>5000.0</td>\n",
       "      <td>98.55</td>\n",
       "      <td>0.0</td>\n",
       "      <td>0</td>\n",
       "      <td>0</td>\n",
       "      <td>1</td>\n",
       "      <td>0</td>\n",
       "      <td>0</td>\n",
       "      <td>0</td>\n",
       "      <td>...</td>\n",
       "      <td>0</td>\n",
       "      <td>0</td>\n",
       "      <td>0</td>\n",
       "      <td>1</td>\n",
       "      <td>0</td>\n",
       "      <td>1</td>\n",
       "      <td>0</td>\n",
       "      <td>1</td>\n",
       "      <td>0</td>\n",
       "      <td>518</td>\n",
       "    </tr>\n",
       "    <tr>\n",
       "      <th>1</th>\n",
       "      <td>5000.0</td>\n",
       "      <td>5000.0</td>\n",
       "      <td>74.51</td>\n",
       "      <td>0.0</td>\n",
       "      <td>0</td>\n",
       "      <td>0</td>\n",
       "      <td>1</td>\n",
       "      <td>0</td>\n",
       "      <td>0</td>\n",
       "      <td>0</td>\n",
       "      <td>...</td>\n",
       "      <td>0</td>\n",
       "      <td>0</td>\n",
       "      <td>0</td>\n",
       "      <td>0</td>\n",
       "      <td>0</td>\n",
       "      <td>0</td>\n",
       "      <td>1</td>\n",
       "      <td>1</td>\n",
       "      <td>0</td>\n",
       "      <td>577</td>\n",
       "    </tr>\n",
       "    <tr>\n",
       "      <th>2</th>\n",
       "      <td>5000.0</td>\n",
       "      <td>5000.0</td>\n",
       "      <td>7.47</td>\n",
       "      <td>0.0</td>\n",
       "      <td>0</td>\n",
       "      <td>0</td>\n",
       "      <td>1</td>\n",
       "      <td>0</td>\n",
       "      <td>0</td>\n",
       "      <td>0</td>\n",
       "      <td>...</td>\n",
       "      <td>0</td>\n",
       "      <td>0</td>\n",
       "      <td>0</td>\n",
       "      <td>0</td>\n",
       "      <td>0</td>\n",
       "      <td>1</td>\n",
       "      <td>0</td>\n",
       "      <td>1</td>\n",
       "      <td>0</td>\n",
       "      <td>605</td>\n",
       "    </tr>\n",
       "    <tr>\n",
       "      <th>3</th>\n",
       "      <td>5000.0</td>\n",
       "      <td>5000.0</td>\n",
       "      <td>7.47</td>\n",
       "      <td>0.0</td>\n",
       "      <td>0</td>\n",
       "      <td>0</td>\n",
       "      <td>1</td>\n",
       "      <td>0</td>\n",
       "      <td>0</td>\n",
       "      <td>0</td>\n",
       "      <td>...</td>\n",
       "      <td>0</td>\n",
       "      <td>0</td>\n",
       "      <td>0</td>\n",
       "      <td>0</td>\n",
       "      <td>0</td>\n",
       "      <td>1</td>\n",
       "      <td>0</td>\n",
       "      <td>1</td>\n",
       "      <td>0</td>\n",
       "      <td>637</td>\n",
       "    </tr>\n",
       "    <tr>\n",
       "      <th>4</th>\n",
       "      <td>5000.0</td>\n",
       "      <td>5000.0</td>\n",
       "      <td>71.18</td>\n",
       "      <td>0.0</td>\n",
       "      <td>0</td>\n",
       "      <td>0</td>\n",
       "      <td>1</td>\n",
       "      <td>0</td>\n",
       "      <td>0</td>\n",
       "      <td>0</td>\n",
       "      <td>...</td>\n",
       "      <td>0</td>\n",
       "      <td>0</td>\n",
       "      <td>0</td>\n",
       "      <td>0</td>\n",
       "      <td>0</td>\n",
       "      <td>0</td>\n",
       "      <td>1</td>\n",
       "      <td>1</td>\n",
       "      <td>0</td>\n",
       "      <td>231</td>\n",
       "    </tr>\n",
       "  </tbody>\n",
       "</table>\n",
       "<p>5 rows × 48 columns</p>\n",
       "</div>"
      ],
      "text/plain": [
       "   creditLimit  availableMoney  transactionAmount  currentBalance  isFraud  \\\n",
       "0       5000.0          5000.0              98.55             0.0        0   \n",
       "1       5000.0          5000.0              74.51             0.0        0   \n",
       "2       5000.0          5000.0               7.47             0.0        0   \n",
       "3       5000.0          5000.0               7.47             0.0        0   \n",
       "4       5000.0          5000.0              71.18             0.0        0   \n",
       "\n",
       "   transactionType__ADDRESS_VERIFICATION  transactionType__PURCHASE  \\\n",
       "0                                      0                          1   \n",
       "1                                      0                          1   \n",
       "2                                      0                          1   \n",
       "3                                      0                          1   \n",
       "4                                      0                          1   \n",
       "\n",
       "   transactionType__REVERSAL  merchantCountryCode__CAN  \\\n",
       "0                          0                         0   \n",
       "1                          0                         0   \n",
       "2                          0                         0   \n",
       "3                          0                         0   \n",
       "4                          0                         0   \n",
       "\n",
       "   merchantCountryCode__MEX  ...  merchantCategoryCode__online_retail  \\\n",
       "0                         0  ...                                    0   \n",
       "1                         0  ...                                    0   \n",
       "2                         0  ...                                    0   \n",
       "3                         0  ...                                    0   \n",
       "4                         0  ...                                    0   \n",
       "\n",
       "   merchantCategoryCode__online_subscriptions  \\\n",
       "0                                           0   \n",
       "1                                           0   \n",
       "2                                           0   \n",
       "3                                           0   \n",
       "4                                           0   \n",
       "\n",
       "   merchantCategoryCode__personal care  merchantCategoryCode__rideshare  \\\n",
       "0                                    0                                1   \n",
       "1                                    0                                0   \n",
       "2                                    0                                0   \n",
       "3                                    0                                0   \n",
       "4                                    0                                0   \n",
       "\n",
       "   merchantCategoryCode__subscriptions  cardPresent__False  cardPresent__True  \\\n",
       "0                                    0                   1                  0   \n",
       "1                                    0                   0                  1   \n",
       "2                                    0                   1                  0   \n",
       "3                                    0                   1                  0   \n",
       "4                                    0                   0                  1   \n",
       "\n",
       "   expirationDateKeyInMatch__False  expirationDateKeyInMatch__True  \\\n",
       "0                                1                               0   \n",
       "1                                1                               0   \n",
       "2                                1                               0   \n",
       "3                                1                               0   \n",
       "4                                1                               0   \n",
       "\n",
       "   daysSinceLastAddressChange  \n",
       "0                         518  \n",
       "1                         577  \n",
       "2                         605  \n",
       "3                         637  \n",
       "4                         231  \n",
       "\n",
       "[5 rows x 48 columns]"
      ]
     },
     "execution_count": 9,
     "metadata": {},
     "output_type": "execute_result"
    }
   ],
   "source": [
    "df = pd.read_csv('transaction_clean.csv')\n",
    "df.head()\n",
    "\n",
    "df_clean = df.drop(['transactionDateTime', 'currentExpDate', 'dateOfLastAddressChange', 'accountOpenDate'], axis=1)\n",
    "df_clean['isFraud'] = df_clean['isFraud']*1\n",
    "\n",
    "df_clean.head()"
   ]
  },
  {
   "cell_type": "markdown",
   "id": "1ecc46ad",
   "metadata": {},
   "source": [
    "### Train Test Split"
   ]
  },
  {
   "cell_type": "code",
   "execution_count": 10,
   "id": "6a950e67",
   "metadata": {},
   "outputs": [
    {
     "name": "stdout",
     "output_type": "stream",
     "text": [
      "(629090, 47)\n",
      "(157273, 47)\n"
     ]
    },
    {
     "data": {
      "text/plain": [
       "0    619166\n",
       "1      9924\n",
       "Name: isFraud, dtype: int64"
      ]
     },
     "execution_count": 10,
     "metadata": {},
     "output_type": "execute_result"
    }
   ],
   "source": [
    "X = df_clean.drop('isFraud', axis=1)\n",
    "y = df_clean['isFraud']\n",
    "\n",
    "X_train, X_test, y_train, y_test = train_test_split(X, y, test_size=0.2, random_state=42)\n",
    "\n",
    "print(X_train.shape)\n",
    "print(X_test.shape)\n",
    "\n",
    "y_train.value_counts()"
   ]
  },
  {
   "cell_type": "markdown",
   "id": "3733e76a",
   "metadata": {},
   "source": [
    "### Scaling the data"
   ]
  },
  {
   "cell_type": "code",
   "execution_count": 11,
   "id": "0b835524",
   "metadata": {},
   "outputs": [],
   "source": [
    "from sklearn.preprocessing import StandardScaler\n",
    "\n",
    "# Standardize the features (important for SVM)\n",
    "scaler = StandardScaler()\n",
    "X_train = scaler.fit_transform(X_train)\n",
    "X_test = scaler.transform(X_test)"
   ]
  },
  {
   "cell_type": "code",
   "execution_count": 12,
   "id": "6856ab64",
   "metadata": {},
   "outputs": [
    {
     "name": "stdout",
     "output_type": "stream",
     "text": [
      "62.39076985086658\n"
     ]
    }
   ],
   "source": [
    "spw = y_train.value_counts()[0]/y_train.value_counts()[1]\n",
    "print(spw)"
   ]
  },
  {
   "cell_type": "markdown",
   "id": "82d52a55",
   "metadata": {},
   "source": [
    "### Fit the model"
   ]
  },
  {
   "cell_type": "code",
   "execution_count": 13,
   "id": "8465b2fa",
   "metadata": {},
   "outputs": [
    {
     "data": {
      "text/plain": [
       "<catboost.core.CatBoostClassifier at 0x2248d8e3040>"
      ]
     },
     "execution_count": 13,
     "metadata": {},
     "output_type": "execute_result"
    }
   ],
   "source": [
    "import catboost\n",
    "\n",
    "model = catboost.CatBoostClassifier(verbose=False,random_state=0,scale_pos_weight=spw+30)\n",
    "\n",
    "#categorical_features_indices = np.where(X.dtypes != np.float)[0]\n",
    "model.fit(X_train, y_train, eval_set=(X_test, y_test))"
   ]
  },
  {
   "cell_type": "code",
   "execution_count": 14,
   "id": "74df664a",
   "metadata": {},
   "outputs": [],
   "source": [
    "y_pred = model.predict(X_test)"
   ]
  },
  {
   "cell_type": "markdown",
   "id": "de80d9ab",
   "metadata": {},
   "source": [
    "### Model Evaluation : Performance Metrics"
   ]
  },
  {
   "cell_type": "code",
   "execution_count": 17,
   "id": "60ebc8b5",
   "metadata": {},
   "outputs": [
    {
     "name": "stdout",
     "output_type": "stream",
     "text": [
      "Accuracy: 0.61\n",
      "Precision: 0.03\n",
      "Recall: 0.81\n",
      "F1 Score: 0.06\n",
      "ROC AUC: 0.71\n",
      "Confusion Matrix:\n",
      "[[93527 61253]\n",
      " [  483  2010]]\n"
     ]
    }
   ],
   "source": [
    "# Evaluate the model using various metrics\n",
    "accuracy = accuracy_score(y_test, y_pred)\n",
    "precision = precision_score(y_test, y_pred)\n",
    "recall = recall_score(y_test, y_pred)\n",
    "f1 = f1_score(y_test, y_pred)\n",
    "roc_auc = roc_auc_score(y_test, y_pred)\n",
    "\n",
    "conf_matrix = confusion_matrix(y_test, y_pred)\n",
    "\n",
    "print(f\"Accuracy: {accuracy:.2f}\")\n",
    "print(f\"Precision: {precision:.2f}\")\n",
    "print(f\"Recall: {recall:.2f}\")\n",
    "print(f\"F1 Score: {f1:.2f}\")\n",
    "print(f\"ROC AUC: {roc_auc:.2f}\")\n",
    "print(\"Confusion Matrix:\")\n",
    "print(conf_matrix)"
   ]
  },
  {
   "cell_type": "markdown",
   "id": "7ea71179",
   "metadata": {},
   "source": [
    "### Model Evaluation : Confusion Matrix"
   ]
  },
  {
   "cell_type": "code",
   "execution_count": 16,
   "id": "4b9b23d6",
   "metadata": {},
   "outputs": [
    {
     "name": "stdout",
     "output_type": "stream",
     "text": [
      "Normalized confusion matrix\n",
      "[[0.60425766 0.39574234]\n",
      " [0.19374248 0.80625752]]\n"
     ]
    },
    {
     "data": {
      "image/png": "[encoded data removed]",
      "text/plain": [
       "<Figure size 432x288 with 2 Axes>"
      ]
     },
     "metadata": {
      "needs_background": "light"
     },
     "output_type": "display_data"
    }
   ],
   "source": [
    "cm = conf_matrix.astype('float') / conf_matrix.sum(axis=1)[:, np.newaxis]\n",
    "\n",
    "print(\"Normalized confusion matrix\")\n",
    "print(cm)\n",
    "\n",
    "labels = [str(round(value, 3)) for row in cm for value in row]\n",
    "labels = np.asarray(labels).reshape(2,2)\n",
    "sns.heatmap(cm, annot=labels, fmt=\"\", cmap='Blues')\n",
    "plt.show()"
   ]
  },
  {
   "cell_type": "markdown",
   "id": "072d21cc",
   "metadata": {},
   "source": [
    "### Plotting ROC Curve"
   ]
  },
  {
   "cell_type": "code",
   "execution_count": 19,
   "id": "f294b486",
   "metadata": {},
   "outputs": [
    {
     "data": {
      "image/png": "[encoded data removed]",
      "text/plain": [
       "<Figure size 576x432 with 1 Axes>"
      ]
     },
     "metadata": {
      "needs_background": "light"
     },
     "output_type": "display_data"
    }
   ],
   "source": [
    "from sklearn.metrics import roc_curve, auc\n",
    "\n",
    "# Make predictions on the test data and get probability scores\n",
    "y_pred_proba = model.predict_proba(X_test)[:, 1]\n",
    "\n",
    "# Calculate ROC curve\n",
    "fpr, tpr, _ = roc_curve(y_test, y_pred_proba)\n",
    "roc_auc = auc(fpr, tpr)\n",
    "\n",
    "# Plot the ROC curve\n",
    "plt.figure(figsize=(8, 6))\n",
    "plt.plot(fpr, tpr, color='darkorange', lw=2, label='ROC curve (area = %0.2f)' % roc_auc)\n",
    "plt.plot([0, 1], [0, 1], color='navy', lw=2, linestyle='--')\n",
    "plt.xlim([0.0, 1.0])\n",
    "plt.ylim([0.0, 1.05])\n",
    "plt.xlabel('False Positive Rate')\n",
    "plt.ylabel('True Positive Rate')\n",
    "plt.title('Receiver Operating Characteristic (ROC)')\n",
    "plt.legend(loc='lower right')\n",
    "plt.show()"
   ]
  },
  {
   "cell_type": "markdown",
   "id": "0b4b60fb",
   "metadata": {},
   "source": [
    "## Methodology Explanation:\n",
    "\n",
    "1. Data Preprocessing:\n",
    "Before training the model, the data has been preprocessed:\n",
    "- Converted Categorical to Numeric using one-hot encoding.\n",
    "- Explored the dataset and plotted histograms.\n",
    "- Feature Scaling: Standardized normalize numerical features.\n",
    "\n",
    "2. Model Selection:\n",
    "For fraud detection, I selected tree-based algorithms i.e CatBoost because it performs well due to its ability to handle imbalanced datasets and capture non-linear relationships.\n",
    "\n",
    "3. Model Evaluation:\n",
    "Evaluated the model's performance on the test dataset using evaluation metrics like accuracy, precision, recall.\n",
    "Special attention to metrics like recall, as it is more informative for imbalanced datasets and fraud detection.\n",
    "\n",
    "Modeling Algorithm: CatBoost\n",
    "\n",
    "I chose the CatBoost algorithm for fraud detection for several reasons:\n",
    "- Categorical Feature Handling: CatBoost handles categorical features naturally without the need for one-hot encoding. This is crucial as credit card merchant names and categories are often categorical and can be significant predictors of fraud.\n",
    "- Robust to Overfitting: CatBoost employs regularization techniques that make it robust to overfitting, which is important in fraud detection where the class imbalance is typically high.\n",
    "- Gradient Boosting: It is an ensemble method that combines the predictions of multiple decision trees, providing good predictive performance.\n",
    "\n",
    "\n",
    "## Performance Measure:\n",
    "Recall (Sensitivity/True Positive Rate):\n",
    "\n",
    "Recall is the ratio of correctly predicted fraud cases to the total number of actual fraud cases (both true positives and false negatives).  \n",
    "Recall is crucial when it's essential to identify as many actual fraud cases as possible, even at the cost of some false alarms. It measures the ability of the model to detect fraud effectively.  \n",
    "False Negatives are more important and should be minimized because flagging a normal transaction would require additional confirmation from user to make a payment but missing to detect a fraud transaction could result in a loss of thousands of dollars.\n",
    "\n",
    "\n",
    "### Questions and Improvements\n",
    "\n",
    "- Are there any external datasets that can be incorporated, like merchant risk scores?\n",
    "- Hyper Parameter Tuning: Utilize techniques like Grid Search to tune hyper parameters  to optimize the model for better performance. \n",
    "- Feature Importance Analysis: This can provide insights into which features are most indicative of fraud.   \n",
    "- Anomaly Detection: For fraud detection, unsupervised anomaly detection techniques (like Isolation Forest or One-Class SVM) could be explored.  \n",
    "- Deep Learning: With more data, neural networks might be beneficial.  \n",
    "- Real-time Integration: For effective fraud prevention, the model needs to make predictions in real-time.  \n",
    "- Feedback Loop: As fraudsters change their tactics, the model should continuously learn from the latest fraud patterns. A feedback loop where investigators confirm or refute the model's predictions can help the model adapt to new patterns."
   ]
  }
 ],
 "metadata": {
  "kernelspec": {
   "display_name": "Python 3 (ipykernel)",
   "language": "python",
   "name": "python3"
  },
  "language_info": {
   "codemirror_mode": {
    "name": "ipython",
    "version": 3
   },
   "file_extension": ".py",
   "mimetype": "text/x-python",
   "name": "python",
   "nbconvert_exporter": "python",
   "pygments_lexer": "ipython3",
   "version": "3.9.12"
  }
 },
 "nbformat": 4,
 "nbformat_minor": 5
}
